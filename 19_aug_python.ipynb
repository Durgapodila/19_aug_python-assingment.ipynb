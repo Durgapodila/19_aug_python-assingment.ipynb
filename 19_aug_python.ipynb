{
 "cells": [
  {
   "cell_type": "code",
   "execution_count": 11,
   "id": "24825091-2e2a-40b7-85db-682196c54edf",
   "metadata": {},
   "outputs": [],
   "source": [
    "#PYTHON  BASIC VARIABLE "
   ]
  },
  {
   "cell_type": "code",
   "execution_count": 12,
   "id": "289ec53e-3d3c-4f12-af88-02a38888a9f2",
   "metadata": {},
   "outputs": [],
   "source": [
    "#QES-1"
   ]
  },
  {
   "cell_type": "code",
   "execution_count": 5,
   "id": "8b12cea7-b824-4b4c-8a45-519f0c6d8dd4",
   "metadata": {},
   "outputs": [
    {
     "name": "stdin",
     "output_type": "stream",
     "text": [
      " 10\n",
      " 15\n"
     ]
    }
   ],
   "source": [
    "x=input()\n",
    "y=input()\n",
    "temp=x\n",
    "x=y\n",
    "y=temp"
   ]
  },
  {
   "cell_type": "code",
   "execution_count": 6,
   "id": "2ff407c6-3d75-4054-bf48-4548d7783819",
   "metadata": {},
   "outputs": [
    {
     "data": {
      "text/plain": [
       "('15', '10')"
      ]
     },
     "execution_count": 6,
     "metadata": {},
     "output_type": "execute_result"
    }
   ],
   "source": [
    "x,y"
   ]
  },
  {
   "cell_type": "code",
   "execution_count": 13,
   "id": "87f3ef10-83a8-4672-836c-01511e88ca9d",
   "metadata": {},
   "outputs": [],
   "source": [
    "#QES-2"
   ]
  },
  {
   "cell_type": "code",
   "execution_count": 3,
   "id": "d250740b-c8ea-43b1-bc8b-dcc824d668ac",
   "metadata": {},
   "outputs": [
    {
     "name": "stdin",
     "output_type": "stream",
     "text": [
      "enter the length 20\n",
      "enter the bredgth 15\n"
     ]
    }
   ],
   "source": [
    "a=int(input(\"enter the length\"))\n",
    "b=int(input(\"enter the bredgth\"))\n",
    "c=a*b"
   ]
  },
  {
   "cell_type": "code",
   "execution_count": 4,
   "id": "14ca6592-280e-4c60-843e-9a938fb6448b",
   "metadata": {},
   "outputs": [
    {
     "name": "stdout",
     "output_type": "stream",
     "text": [
      "300\n"
     ]
    }
   ],
   "source": [
    "print(c)"
   ]
  },
  {
   "cell_type": "code",
   "execution_count": 5,
   "id": "5faa21ab-445d-4a3a-b9b5-d78e76ccbf87",
   "metadata": {},
   "outputs": [],
   "source": [
    "#where C is the area of the rectangle"
   ]
  },
  {
   "cell_type": "code",
   "execution_count": 14,
   "id": "053db4b8-19e1-4851-aed8-649ecd267f53",
   "metadata": {},
   "outputs": [],
   "source": [
    "#QES-3"
   ]
  },
  {
   "cell_type": "code",
   "execution_count": 6,
   "id": "a3fed3f0-19d8-4df5-afcd-d5eecad456b7",
   "metadata": {},
   "outputs": [
    {
     "name": "stdin",
     "output_type": "stream",
     "text": [
      "enter the temparature in celsius 50\n"
     ]
    },
    {
     "name": "stdout",
     "output_type": "stream",
     "text": [
      "%.2f celsius is equal to :%.2f fahrenheit (50, 122.0)\n"
     ]
    }
   ],
   "source": [
    "celsius=int(input(\"enter the temparature in celsius\"))\n",
    "fahrenheit=(celsius*1.8)+32\n",
    "print('%.2f celsius is equal to :%.2f fahrenheit',(celsius,fahrenheit))"
   ]
  },
  {
   "cell_type": "code",
   "execution_count": null,
   "id": "136294a1-556a-445a-8142-bab2013ea1a3",
   "metadata": {},
   "outputs": [],
   "source": []
  },
  {
   "cell_type": "code",
   "execution_count": 7,
   "id": "c3cc21a6-e563-4fc5-bfcb-9a2549ac7a80",
   "metadata": {},
   "outputs": [],
   "source": [
    "#TOPIC:::STRING BASED QUESTIONS"
   ]
  },
  {
   "cell_type": "code",
   "execution_count": 9,
   "id": "e54732f8-9dd7-4f5e-877b-8fe08facd504",
   "metadata": {},
   "outputs": [],
   "source": [
    "#QES-1"
   ]
  },
  {
   "cell_type": "code",
   "execution_count": 8,
   "id": "8335fa7e-95cc-4b49-bbcb-98d00a14d928",
   "metadata": {},
   "outputs": [
    {
     "name": "stdin",
     "output_type": "stream",
     "text": [
      "enter a string durgaprasadpodila\n"
     ]
    },
    {
     "name": "stdout",
     "output_type": "stream",
     "text": [
      "17\n"
     ]
    }
   ],
   "source": [
    "a=input(\"enter a string\")\n",
    "b=len(a)\n",
    "print(b)"
   ]
  },
  {
   "cell_type": "code",
   "execution_count": 10,
   "id": "16c76057-7bec-4c5b-8380-ced9310b2c33",
   "metadata": {},
   "outputs": [],
   "source": [
    "#QES-2"
   ]
  },
  {
   "cell_type": "code",
   "execution_count": 16,
   "id": "03dfd04a-7118-4558-923d-6301849699e9",
   "metadata": {},
   "outputs": [
    {
     "name": "stdin",
     "output_type": "stream",
     "text": [
      "enter the string vijaychaithanyapodila\n"
     ]
    },
    {
     "name": "stdout",
     "output_type": "stream",
     "text": [
      "count of vowels in given string 1\n",
      "count of vowels in given string 2\n",
      "count of vowels in given string 3\n",
      "count of vowels in given string 4\n",
      "count of vowels in given string 5\n",
      "count of vowels in given string 6\n",
      "count of vowels in given string 7\n",
      "count of vowels in given string 8\n",
      "count of vowels in given string 9\n"
     ]
    }
   ],
   "source": [
    "a1=input(\"enter the string\")\n",
    "a1_lower=a1.lower()\n",
    "vowels=\"a,e,i,o,u\"\n",
    "count=0\n",
    "for a in a1_lower:\n",
    "   if a in vowels:\n",
    "        count=count+1\n",
    "        print(\"count of vowels in given string\",count)"
   ]
  },
  {
   "cell_type": "code",
   "execution_count": 17,
   "id": "f1816500-bdfd-4110-a3a9-ad3aec221c93",
   "metadata": {},
   "outputs": [],
   "source": [
    "#QES-3"
   ]
  },
  {
   "cell_type": "code",
   "execution_count": 6,
   "id": "e5ce66ed-b176-4859-9644-ee1c091ee0f1",
   "metadata": {},
   "outputs": [
    {
     "name": "stdout",
     "output_type": "stream",
     "text": [
      "dasarpagrud\n"
     ]
    }
   ],
   "source": [
    "q=\"durgaprasad\"\n",
    "p=q[::-1]\n",
    "print(p)"
   ]
  },
  {
   "cell_type": "code",
   "execution_count": 7,
   "id": "b3bc95e2-71f9-41c7-9c68-7d31f54d0a1b",
   "metadata": {},
   "outputs": [],
   "source": [
    "#QES-4"
   ]
  },
  {
   "cell_type": "code",
   "execution_count": 4,
   "id": "e16934b4-6bf8-47b1-af4f-e4dad81fb107",
   "metadata": {},
   "outputs": [
    {
     "name": "stdin",
     "output_type": "stream",
     "text": [
      "enter the string oyo\n"
     ]
    },
    {
     "name": "stdout",
     "output_type": "stream",
     "text": [
      "!@#$oyo$#@!\n"
     ]
    }
   ],
   "source": [
    "a1=input(\"enter the string\")\n",
    "b1=a1[::1]\n",
    "c1=\"!@#$\"+b1+\"$#@!\"\n",
    "print(c1)"
   ]
  },
  {
   "cell_type": "code",
   "execution_count": 5,
   "id": "8bb3f2b4-be9e-48d0-b1df-071939399501",
   "metadata": {},
   "outputs": [],
   "source": [
    "#QES-5"
   ]
  },
  {
   "cell_type": "code",
   "execution_count": 6,
   "id": "a4370a79-a349-4d6a-873d-a3af95ffa3c6",
   "metadata": {},
   "outputs": [
    {
     "name": "stdout",
     "output_type": "stream",
     "text": [
      "vijaychaithanyapodila29\n"
     ]
    }
   ],
   "source": [
    "string1=\"vijay chaithanya podila 29\"\n",
    "print(string1.replace(' ',''))"
   ]
  },
  {
   "cell_type": "code",
   "execution_count": null,
   "id": "4a76407f-02ef-4caa-aa16-58ea7315ab6e",
   "metadata": {},
   "outputs": [],
   "source": []
  }
 ],
 "metadata": {
  "kernelspec": {
   "display_name": "Python 3 (ipykernel)",
   "language": "python",
   "name": "python3"
  },
  "language_info": {
   "codemirror_mode": {
    "name": "ipython",
    "version": 3
   },
   "file_extension": ".py",
   "mimetype": "text/x-python",
   "name": "python",
   "nbconvert_exporter": "python",
   "pygments_lexer": "ipython3",
   "version": "3.10.8"
  }
 },
 "nbformat": 4,
 "nbformat_minor": 5
}
